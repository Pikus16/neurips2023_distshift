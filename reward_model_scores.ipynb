{
 "cells": [
  {
   "cell_type": "code",
   "execution_count": 1,
   "metadata": {},
   "outputs": [
    {
     "name": "stderr",
     "output_type": "stream",
     "text": [
      "/home/ubuntu/anaconda3/envs/content_understanding/lib/python3.8/site-packages/tqdm/auto.py:22: TqdmWarning: IProgress not found. Please update jupyter and ipywidgets. See https://ipywidgets.readthedocs.io/en/stable/user_install.html\n",
      "  from .autonotebook import tqdm as notebook_tqdm\n"
     ]
    }
   ],
   "source": [
    "from transformers import AutoTokenizer, AutoModelForSequenceClassification\n",
    "import pandas as pd\n",
    "from tqdm import tqdm\n",
    "import numpy as np"
   ]
  },
  {
   "cell_type": "code",
   "execution_count": 2,
   "metadata": {},
   "outputs": [
    {
     "name": "stderr",
     "output_type": "stream",
     "text": [
      "Downloading (…)lve/main/config.json: 100%|██████████| 993/993 [00:00<00:00, 132kB/s]\n",
      "2023-09-12 16:02:14.363086: I tensorflow/core/platform/cpu_feature_guard.cc:193] This TensorFlow binary is optimized with oneAPI Deep Neural Network Library (oneDNN) to use the following CPU instructions in performance-critical operations:  AVX2 FMA\n",
      "To enable them in other operations, rebuild TensorFlow with the appropriate compiler flags.\n",
      "Downloading pytorch_model.bin: 100%|██████████| 1.74G/1.74G [00:08<00:00, 200MB/s] \n",
      "Downloading (…)okenizer_config.json: 100%|██████████| 455/455 [00:00<00:00, 199kB/s]\n",
      "Downloading spm.model: 100%|██████████| 2.46M/2.46M [00:00<00:00, 169MB/s]\n",
      "Downloading (…)/main/tokenizer.json: 100%|██████████| 8.66M/8.66M [00:00<00:00, 33.0MB/s]\n",
      "Downloading (…)in/added_tokens.json: 100%|██████████| 23.0/23.0 [00:00<00:00, 19.4kB/s]\n",
      "Downloading (…)cial_tokens_map.json: 100%|██████████| 173/173 [00:00<00:00, 236kB/s]\n"
     ]
    }
   ],
   "source": [
    "reward_name = \"OpenAssistant/reward-model-deberta-v3-large-v2\"\n",
    "rank_model, tokenizer = AutoModelForSequenceClassification.from_pretrained(reward_name), AutoTokenizer.from_pretrained(reward_name, model_max_length=1700)\n",
    "rank_model = rank_model.to('cuda')"
   ]
  },
  {
   "cell_type": "code",
   "execution_count": 3,
   "metadata": {},
   "outputs": [],
   "source": [
    "base_dir = 'data/openai_summarize_from_feedback'\n",
    "original = pd.read_csv(f\"{base_dir}/english_original.csv\")\n",
    "chinese = pd.read_csv(f\"{base_dir}/english_to_chinese.csv\")\n",
    "english = pd.read_csv(f\"{base_dir}/english_to_chinese_to_english.csv\")"
   ]
  },
  {
   "cell_type": "code",
   "execution_count": 4,
   "metadata": {},
   "outputs": [
    {
     "data": {
      "text/plain": [
       "((83802, 3), (83802, 3), (83802, 3))"
      ]
     },
     "execution_count": 4,
     "metadata": {},
     "output_type": "execute_result"
    }
   ],
   "source": [
    "original.shape, english.shape, chinese.shape"
   ]
  },
  {
   "cell_type": "code",
   "execution_count": 5,
   "metadata": {},
   "outputs": [],
   "source": [
    "def get_score(prompt, response):\n",
    "    inputs = tokenizer(prompt, response, return_tensors='pt', truncation=True)\n",
    "    inputs = inputs.to('cuda')\n",
    "    return rank_model(**inputs).logits[0].cpu().detach().item()"
   ]
  },
  {
   "cell_type": "code",
   "execution_count": null,
   "metadata": {},
   "outputs": [],
   "source": [
    "def get_batch_score(prompts, responses):\n",
    "    inputs = tokenizer(prompts, responses, padding=True, return_tensors='pt').to('cuda')\n",
    "    return rank_model(**inputs).logits.flatten().tolist()"
   ]
  },
  {
   "cell_type": "code",
   "execution_count": 12,
   "metadata": {},
   "outputs": [],
   "source": [
    "original_prompt_chinese_response = pd.DataFrame({\n",
    "    'prompt' :original['prompt'],\n",
    "    'chosen' : chinese['chosen'],\n",
    "    'rejected' : chinese['rejected']\n",
    "})\n",
    "chinese_prompt_original_response = pd.DataFrame({\n",
    "    'prompt' :chinese['prompt'],\n",
    "    'chosen' : original['chosen'],\n",
    "    'rejected' : original['rejected']\n",
    "})"
   ]
  },
  {
   "cell_type": "code",
   "execution_count": 15,
   "metadata": {},
   "outputs": [],
   "source": [
    "dataset_map = {\n",
    "    #'original' : original,\n",
    "    #'chinese' : chinese,\n",
    "    #'english' : english,\n",
    "    'original_prompt_chinese_response' : original_prompt_chinese_response,\n",
    "    #'chinese_prompt_original_response' : chinese_prompt_original_response\n",
    "}"
   ]
  },
  {
   "cell_type": "code",
   "execution_count": 16,
   "metadata": {},
   "outputs": [],
   "source": [
    "for k,v in dataset_map.items():\n",
    "    dataset_map[k] = v.fillna('')"
   ]
  },
  {
   "cell_type": "code",
   "execution_count": 17,
   "metadata": {},
   "outputs": [
    {
     "name": "stderr",
     "output_type": "stream",
     "text": [
      "  1%|          | 1029/83802 [00:23<47:31, 29.02it/s]"
     ]
    }
   ],
   "source": [
    "all_scores = {}\n",
    "for name, dataframe in dataset_map.items():\n",
    "    chosen_scores = []\n",
    "    reject_scores = []\n",
    "    existing = {}\n",
    "    for i, row in tqdm(dataframe.iterrows(), total=len(original)):\n",
    "        if (row.prompt, row.chosen) not in existing:\n",
    "            existing[(row.prompt, row.chosen)] = get_score(row.prompt, row.chosen)\n",
    "        chosen_scores.append(existing[(row.prompt, row.chosen)])\n",
    "\n",
    "        if (row.prompt, row.rejected) not in existing:\n",
    "            existing[(row.prompt, row.rejected)] = get_score(row.prompt, row.rejected)\n",
    "        reject_scores.append(existing[(row.prompt, row.rejected)])\n",
    "\n",
    "    all_scores[name] = {'chosen' : chosen_scores, 'rejected' : reject_scores}"
   ]
  },
  {
   "cell_type": "code",
   "execution_count": null,
   "metadata": {},
   "outputs": [],
   "source": [
    "for \n",
    "\n",
    "pd.DataFrame(all_scores['english']).to_csv('model_scores/deberta_v3_large/english_to_chinese_to_english_scores.csv', index=False)"
   ]
  }
 ],
 "metadata": {
  "kernelspec": {
   "display_name": "Python 3 (ipykernel)",
   "language": "python",
   "name": "python3"
  },
  "language_info": {
   "codemirror_mode": {
    "name": "ipython",
    "version": 3
   },
   "file_extension": ".py",
   "mimetype": "text/x-python",
   "name": "python",
   "nbconvert_exporter": "python",
   "pygments_lexer": "ipython3",
   "version": "3.11.4"
  }
 },
 "nbformat": 4,
 "nbformat_minor": 2
}
