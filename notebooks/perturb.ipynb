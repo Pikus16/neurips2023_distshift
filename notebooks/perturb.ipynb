{
 "cells": [
  {
   "cell_type": "code",
   "execution_count": 1,
   "metadata": {},
   "outputs": [],
   "source": [
    "%load_ext autoreload\n",
    "%autoreload 2"
   ]
  },
  {
   "cell_type": "code",
   "execution_count": 3,
   "metadata": {},
   "outputs": [],
   "source": [
    "import sys\n",
    "sys.path.append('..')\n",
    "import numpy as np\n",
    "import pandas as pd\n",
    "from tqdm import tqdm\n",
    "import string\n",
    "import random\n",
    "from utils import get_reward_model, get_score, get_scores_df, get_percent_chosen\n",
    "from nltk.corpus import wordnet as wn\n",
    "# from textblob import TextBlob\n",
    "import matplotlib.pyplot as plt"
   ]
  },
  {
   "cell_type": "code",
   "execution_count": 4,
   "metadata": {},
   "outputs": [],
   "source": [
    "np.random.seed(0)\n",
    "random.seed(0)"
   ]
  },
  {
   "cell_type": "code",
   "execution_count": 109,
   "metadata": {},
   "outputs": [
    {
     "data": {
      "text/html": [
       "<div>\n",
       "<style scoped>\n",
       "    .dataframe tbody tr th:only-of-type {\n",
       "        vertical-align: middle;\n",
       "    }\n",
       "\n",
       "    .dataframe tbody tr th {\n",
       "        vertical-align: top;\n",
       "    }\n",
       "\n",
       "    .dataframe thead th {\n",
       "        text-align: right;\n",
       "    }\n",
       "</style>\n",
       "<table border=\"1\" class=\"dataframe\">\n",
       "  <thead>\n",
       "    <tr style=\"text-align: right;\">\n",
       "      <th></th>\n",
       "      <th>prompt</th>\n",
       "      <th>chosen</th>\n",
       "      <th>rejected</th>\n",
       "    </tr>\n",
       "  </thead>\n",
       "  <tbody>\n",
       "    <tr>\n",
       "      <th>0</th>\n",
       "      <td>I'm a genuinely nice, considerate, and polite ...</td>\n",
       "      <td>I like girls with the opposite personality to ...</td>\n",
       "      <td>I'm kind of into these girls but they act like...</td>\n",
       "    </tr>\n",
       "    <tr>\n",
       "      <th>1</th>\n",
       "      <td>I've just come out of a 4 year relationships a...</td>\n",
       "      <td>Had 2 dates with a girl and now not sure if sh...</td>\n",
       "      <td>Met a girl first date with her, she seemed uns...</td>\n",
       "    </tr>\n",
       "    <tr>\n",
       "      <th>2</th>\n",
       "      <td>I'm 28m and she's 22F. We have been married fo...</td>\n",
       "      <td>I finger her and eat her out. She gets pissed ...</td>\n",
       "      <td>great day with so. She came 3 or 4 times. She ...</td>\n",
       "    </tr>\n",
       "    <tr>\n",
       "      <th>3</th>\n",
       "      <td>I've (25/F) been with my partner (32/M) for ma...</td>\n",
       "      <td>Long term partner started telling me about cro...</td>\n",
       "      <td>partner of ~2 years revealed kinks about cross...</td>\n",
       "    </tr>\n",
       "    <tr>\n",
       "      <th>4</th>\n",
       "      <td>I've got two problems at the moment, both inte...</td>\n",
       "      <td>You're a badass Sysadmin. How do I get you int...</td>\n",
       "      <td>I'm looking for an IT pros that doesn't just r...</td>\n",
       "    </tr>\n",
       "    <tr>\n",
       "      <th>...</th>\n",
       "      <td>...</td>\n",
       "      <td>...</td>\n",
       "      <td>...</td>\n",
       "    </tr>\n",
       "    <tr>\n",
       "      <th>995</th>\n",
       "      <td>We started our friends with benefits a few mon...</td>\n",
       "      <td>I'm going to university and we're not sure if ...</td>\n",
       "      <td>My fwb and I really enjoy each other's company...</td>\n",
       "    </tr>\n",
       "    <tr>\n",
       "      <th>996</th>\n",
       "      <td>Hey guys! I'm 21 (as is my fiance),and we've b...</td>\n",
       "      <td>Been with fiance for 2 years, engagement will ...</td>\n",
       "      <td>We're engaged for a year, and we're not religi...</td>\n",
       "    </tr>\n",
       "    <tr>\n",
       "      <th>997</th>\n",
       "      <td>This week was declared a casual week at work. ...</td>\n",
       "      <td>Jokingly said I'd wear a dress to work and hav...</td>\n",
       "      <td>Coworker wearing a dress to work for charity. ...</td>\n",
       "    </tr>\n",
       "    <tr>\n",
       "      <th>998</th>\n",
       "      <td>So I was hooking up with this girl the other n...</td>\n",
       "      <td>I think I have a hemorrhoid, how did I get it ...</td>\n",
       "      <td>I think I have a hemorrhoid, how do I get rid ...</td>\n",
       "    </tr>\n",
       "    <tr>\n",
       "      <th>999</th>\n",
       "      <td>We've been together 3 years, she's my first ev...</td>\n",
       "      <td>My wife asked if I wanted an open relationship...</td>\n",
       "      <td>my girlfriend of 3 years asked me if I want an...</td>\n",
       "    </tr>\n",
       "  </tbody>\n",
       "</table>\n",
       "<p>1000 rows × 3 columns</p>\n",
       "</div>"
      ],
      "text/plain": [
       "                                                prompt  \\\n",
       "0    I'm a genuinely nice, considerate, and polite ...   \n",
       "1    I've just come out of a 4 year relationships a...   \n",
       "2    I'm 28m and she's 22F. We have been married fo...   \n",
       "3    I've (25/F) been with my partner (32/M) for ma...   \n",
       "4    I've got two problems at the moment, both inte...   \n",
       "..                                                 ...   \n",
       "995  We started our friends with benefits a few mon...   \n",
       "996  Hey guys! I'm 21 (as is my fiance),and we've b...   \n",
       "997  This week was declared a casual week at work. ...   \n",
       "998  So I was hooking up with this girl the other n...   \n",
       "999  We've been together 3 years, she's my first ev...   \n",
       "\n",
       "                                                chosen  \\\n",
       "0    I like girls with the opposite personality to ...   \n",
       "1    Had 2 dates with a girl and now not sure if sh...   \n",
       "2    I finger her and eat her out. She gets pissed ...   \n",
       "3    Long term partner started telling me about cro...   \n",
       "4    You're a badass Sysadmin. How do I get you int...   \n",
       "..                                                 ...   \n",
       "995  I'm going to university and we're not sure if ...   \n",
       "996  Been with fiance for 2 years, engagement will ...   \n",
       "997  Jokingly said I'd wear a dress to work and hav...   \n",
       "998  I think I have a hemorrhoid, how did I get it ...   \n",
       "999  My wife asked if I wanted an open relationship...   \n",
       "\n",
       "                                              rejected  \n",
       "0    I'm kind of into these girls but they act like...  \n",
       "1    Met a girl first date with her, she seemed uns...  \n",
       "2    great day with so. She came 3 or 4 times. She ...  \n",
       "3    partner of ~2 years revealed kinks about cross...  \n",
       "4    I'm looking for an IT pros that doesn't just r...  \n",
       "..                                                 ...  \n",
       "995  My fwb and I really enjoy each other's company...  \n",
       "996  We're engaged for a year, and we're not religi...  \n",
       "997  Coworker wearing a dress to work for charity. ...  \n",
       "998  I think I have a hemorrhoid, how do I get rid ...  \n",
       "999  my girlfriend of 3 years asked me if I want an...  \n",
       "\n",
       "[1000 rows x 3 columns]"
      ]
     },
     "execution_count": 109,
     "metadata": {},
     "output_type": "execute_result"
    }
   ],
   "source": [
    "original = pd.read_csv('data/openai_summarize_from_feedback/english_original.csv').sample(1000).reset_index(drop=True)\n",
    "original = original.fillna('')\n",
    "original"
   ]
  },
  {
   "cell_type": "markdown",
   "metadata": {},
   "source": [
    "## Random Word Perturbation"
   ]
  },
  {
   "cell_type": "code",
   "execution_count": 16,
   "metadata": {},
   "outputs": [],
   "source": [
    "from urllib.request import urlopen\n",
    "\n",
    "word_site = \"https://www-personal.umich.edu/~jlawler/wordlist\"\n",
    "\n",
    "response = urlopen(word_site)\n",
    "txt = response.read().decode()\n",
    "WORDS = txt.splitlines()\n",
    "def get_random_word():\n",
    "    return random.choice(WORDS)"
   ]
  },
  {
   "cell_type": "code",
   "execution_count": 62,
   "metadata": {},
   "outputs": [],
   "source": [
    "def insert_word(word_list, i):\n",
    "    return word_list[:i] + [get_random_word()] + word_list[i:]\n",
    "\n",
    "def delete_word(word_list, i):\n",
    "    return word_list[:i] + word_list[i+1:]\n",
    "\n",
    "def replace_word(word_list, i):\n",
    "    return word_list[:i] + [get_random_word()] + word_list[i+1:]\n",
    "\n",
    "def do_action_word(s, i):\n",
    "    r = np.random.rand()\n",
    "    if r <= 0.33:\n",
    "        return ' '.join(w for w in insert_word(s.split(), i)), i + 1\n",
    "    elif r <= 0.67:\n",
    "        return ' '.join(w for w in delete_word(s.split(), i)), i\n",
    "    else:\n",
    "        return ' '.join(w for w in replace_word(s.split(), i)), i\n",
    "    \n",
    "def perturb_word_string(s, prob_perturb=0.1):\n",
    "    for i in range(len(s.split())):\n",
    "        r = np.random.rand()\n",
    "        if r <= prob_perturb:\n",
    "            s, i = do_action_word(s, i)\n",
    "    return s"
   ]
  },
  {
   "cell_type": "markdown",
   "metadata": {},
   "source": [
    "## Random Char Perturbation"
   ]
  },
  {
   "cell_type": "code",
   "execution_count": 54,
   "metadata": {},
   "outputs": [],
   "source": [
    "chars = string.ascii_letters + '0123456789 \\n'\n",
    "def get_random_char():\n",
    "    return random.choice(chars)"
   ]
  },
  {
   "cell_type": "code",
   "execution_count": 55,
   "metadata": {},
   "outputs": [],
   "source": [
    "def insert(s, i):\n",
    "    return s[:i] + get_random_char() + s[i:]\n",
    "\n",
    "def delete(s, i):\n",
    "    return s[:i] + s[i+1:]\n",
    "\n",
    "def replace(s, i):\n",
    "    return s[:i] + get_random_char() + s[i+1:]"
   ]
  },
  {
   "cell_type": "code",
   "execution_count": 56,
   "metadata": {},
   "outputs": [],
   "source": [
    "def do_action(s, i):\n",
    "    r = np.random.rand()\n",
    "    if r <= 0.33:\n",
    "        return insert(s, i), i+ 1\n",
    "    elif r <= 0.67:\n",
    "        return delete(s,i), i\n",
    "    else:\n",
    "        return replace(s,i), i"
   ]
  },
  {
   "cell_type": "code",
   "execution_count": 57,
   "metadata": {},
   "outputs": [],
   "source": [
    "def perturb_string(s, prob_perturb=0.1):\n",
    "    for i in range(len(s)):\n",
    "        r = np.random.rand()\n",
    "        if r <= prob_perturb:\n",
    "            s, i = do_action(s, i)\n",
    "    return s"
   ]
  },
  {
   "cell_type": "code",
   "execution_count": 71,
   "metadata": {},
   "outputs": [],
   "source": [
    "def perturb_df(df, prob_perturb):\n",
    "    for i, row in original.iterrows():\n",
    "#         df.prompt.iloc[i] = perturb_string(row.prompt, prob_perturb=prob_perturb)\n",
    "        df.prompt.iloc[i] = perturb_word_string(row.prompt, prob_perturb=prob_perturb)\n",
    "#         df.iloc[i].chosen = perturb_string(row.chosen, prob_perturb=prob_perturb)\n",
    "        df.iloc[i].chosen = perturb_word_string(row.chosen, prob_perturb=prob_perturb)\n",
    "#         df.iloc[i].rejected = perturb_string(row.rejected, prob_perturb=prob_perturb)\n",
    "        df.iloc[i].rejected = perturb_word_string(row.rejected, prob_perturb=prob_perturb)\n",
    "    return df"
   ]
  },
  {
   "cell_type": "code",
   "execution_count": 72,
   "metadata": {},
   "outputs": [
    {
     "name": "stderr",
     "output_type": "stream",
     "text": [
      "100%|███████████████████████████████████████████| 10/10 [00:16<00:00,  1.69s/it]\n"
     ]
    }
   ],
   "source": [
    "perturbed = {}\n",
    "for prob_perturb in tqdm(np.arange(0, 1.0, 0.1)):\n",
    "    perturbed[prob_perturb] = perturb_df(original.copy(), prob_perturb=prob_perturb)"
   ]
  },
  {
   "cell_type": "code",
   "execution_count": 73,
   "metadata": {},
   "outputs": [
    {
     "data": {
      "application/vnd.jupyter.widget-view+json": {
       "model_id": "379f7dcdddfe4431900d8db879b89361",
       "version_major": 2,
       "version_minor": 0
      },
      "text/plain": [
       "Downloading (…)lve/main/config.json:   0%|          | 0.00/993 [00:00<?, ?B/s]"
      ]
     },
     "metadata": {},
     "output_type": "display_data"
    },
    {
     "data": {
      "application/vnd.jupyter.widget-view+json": {
       "model_id": "703154ec0b274a86a08285b0287f0592",
       "version_major": 2,
       "version_minor": 0
      },
      "text/plain": [
       "Downloading pytorch_model.bin:   0%|          | 0.00/1.74G [00:00<?, ?B/s]"
      ]
     },
     "metadata": {},
     "output_type": "display_data"
    },
    {
     "data": {
      "application/vnd.jupyter.widget-view+json": {
       "model_id": "bcaa76c1a17a4b1ea73f27b980102281",
       "version_major": 2,
       "version_minor": 0
      },
      "text/plain": [
       "Downloading (…)okenizer_config.json:   0%|          | 0.00/455 [00:00<?, ?B/s]"
      ]
     },
     "metadata": {},
     "output_type": "display_data"
    },
    {
     "data": {
      "application/vnd.jupyter.widget-view+json": {
       "model_id": "3947885f48c646519e6943a17258ff7a",
       "version_major": 2,
       "version_minor": 0
      },
      "text/plain": [
       "Downloading spm.model:   0%|          | 0.00/2.46M [00:00<?, ?B/s]"
      ]
     },
     "metadata": {},
     "output_type": "display_data"
    },
    {
     "data": {
      "application/vnd.jupyter.widget-view+json": {
       "model_id": "82e9e9ce872d40919671112ec73d0129",
       "version_major": 2,
       "version_minor": 0
      },
      "text/plain": [
       "Downloading (…)/main/tokenizer.json:   0%|          | 0.00/8.66M [00:00<?, ?B/s]"
      ]
     },
     "metadata": {},
     "output_type": "display_data"
    },
    {
     "data": {
      "application/vnd.jupyter.widget-view+json": {
       "model_id": "88647b87bdd441cd9380342087b76257",
       "version_major": 2,
       "version_minor": 0
      },
      "text/plain": [
       "Downloading (…)in/added_tokens.json:   0%|          | 0.00/23.0 [00:00<?, ?B/s]"
      ]
     },
     "metadata": {},
     "output_type": "display_data"
    },
    {
     "data": {
      "application/vnd.jupyter.widget-view+json": {
       "model_id": "e7297adce2834282a9fc64e37d7ea16a",
       "version_major": 2,
       "version_minor": 0
      },
      "text/plain": [
       "Downloading (…)cial_tokens_map.json:   0%|          | 0.00/173 [00:00<?, ?B/s]"
      ]
     },
     "metadata": {},
     "output_type": "display_data"
    }
   ],
   "source": [
    "rank_model, tokenizer = get_reward_model()"
   ]
  },
  {
   "cell_type": "code",
   "execution_count": 74,
   "metadata": {},
   "outputs": [
    {
     "name": "stderr",
     "output_type": "stream",
     "text": [
      "100%|███████████████████████████████████████| 1000/1000 [18:22<00:00,  1.10s/it]\n",
      "100%|███████████████████████████████████████| 1000/1000 [21:19<00:00,  1.28s/it]\n",
      "100%|███████████████████████████████████████| 1000/1000 [21:46<00:00,  1.31s/it]\n",
      "100%|███████████████████████████████████████| 1000/1000 [33:46<00:00,  2.03s/it]\n",
      "100%|███████████████████████████████████████| 1000/1000 [24:36<00:00,  1.48s/it]\n",
      "100%|███████████████████████████████████████| 1000/1000 [40:45<00:00,  2.45s/it]\n",
      "100%|███████████████████████████████████████| 1000/1000 [23:30<00:00,  1.41s/it]\n",
      "100%|███████████████████████████████████████| 1000/1000 [24:40<00:00,  1.48s/it]\n",
      "100%|███████████████████████████████████████| 1000/1000 [25:35<00:00,  1.54s/it]\n",
      "100%|███████████████████████████████████████| 1000/1000 [32:36<00:00,  1.96s/it]\n"
     ]
    }
   ],
   "source": [
    "perturbed_scores = {}\n",
    "scores = {}\n",
    "for prob_perturb, df_ in perturbed.items():\n",
    "    scores[prob_perturb] = get_scores_df(df_, tokenizer=tokenizer, rank_model=rank_model)\n",
    "perturbed_scores['prompt_and_response'] = scores"
   ]
  },
  {
   "cell_type": "code",
   "execution_count": 75,
   "metadata": {},
   "outputs": [
    {
     "name": "stderr",
     "output_type": "stream",
     "text": [
      "100%|███████████████████████████████████████| 1000/1000 [17:50<00:00,  1.07s/it]\n",
      "100%|███████████████████████████████████████| 1000/1000 [19:40<00:00,  1.18s/it]\n",
      "100%|███████████████████████████████████████| 1000/1000 [19:39<00:00,  1.18s/it]\n",
      "100%|███████████████████████████████████████| 1000/1000 [18:58<00:00,  1.14s/it]\n",
      "100%|███████████████████████████████████████| 1000/1000 [19:41<00:00,  1.18s/it]\n",
      "100%|███████████████████████████████████████| 1000/1000 [19:58<00:00,  1.20s/it]\n",
      "100%|███████████████████████████████████████| 1000/1000 [19:59<00:00,  1.20s/it]\n",
      "100%|███████████████████████████████████████| 1000/1000 [19:07<00:00,  1.15s/it]\n",
      "100%|█████████████████████████████████████| 1000/1000 [1:05:32<00:00,  3.93s/it]\n",
      "100%|███████████████████████████████████████| 1000/1000 [19:07<00:00,  1.15s/it]\n"
     ]
    }
   ],
   "source": [
    "scores = {}\n",
    "for prob_perturb, df_ in perturbed.items():\n",
    "    df_ = df_.copy()\n",
    "    df_['prompt'] = original['prompt']\n",
    "    scores[prob_perturb] = get_scores_df(df_, tokenizer=tokenizer, rank_model=rank_model)\n",
    "perturbed_scores['response'] = scores"
   ]
  },
  {
   "cell_type": "code",
   "execution_count": 82,
   "metadata": {},
   "outputs": [
    {
     "name": "stderr",
     "output_type": "stream",
     "text": [
      "100%|███████████████████████████████████████| 1000/1000 [48:05<00:00,  2.89s/it]\n",
      "100%|█████████████████████████████████████| 1000/1000 [4:23:01<00:00, 15.78s/it]\n",
      "100%|█████████████████████████████████████| 1000/1000 [8:33:12<00:00, 30.79s/it]\n",
      "100%|███████████████████████████████████████| 1000/1000 [21:33<00:00,  1.29s/it]\n",
      "100%|███████████████████████████████████████| 1000/1000 [21:22<00:00,  1.28s/it]\n",
      "100%|███████████████████████████████████████| 1000/1000 [22:19<00:00,  1.34s/it]\n",
      "100%|███████████████████████████████████████| 1000/1000 [22:52<00:00,  1.37s/it]\n",
      "100%|███████████████████████████████████████| 1000/1000 [24:00<00:00,  1.44s/it]\n",
      "100%|███████████████████████████████████████| 1000/1000 [24:47<00:00,  1.49s/it]\n",
      "100%|███████████████████████████████████████| 1000/1000 [27:11<00:00,  1.63s/it]\n"
     ]
    }
   ],
   "source": [
    "scores = {}\n",
    "for prob_perturb, df_ in perturbed.items():\n",
    "    df_ = df_.copy()\n",
    "    df_['chosen'] = original['chosen']\n",
    "    df_['rejected'] = original['rejected']\n",
    "    scores[prob_perturb] = get_scores_df(df_, tokenizer=tokenizer, rank_model=rank_model)\n",
    "perturbed_scores['prompt'] = scores"
   ]
  },
  {
   "cell_type": "code",
   "execution_count": 83,
   "metadata": {},
   "outputs": [],
   "source": [
    "probs_both, accs_both = [], []\n",
    "for k,v in perturbed_scores['prompt_and_response'].items():\n",
    "    probs_both.append(k)\n",
    "    accs_both.append(get_percent_chosen(v))\n",
    "probs_prompt, accs_prompt = [], []\n",
    "for k,v in perturbed_scores['prompt'].items():\n",
    "    probs_prompt.append(k)\n",
    "    accs_prompt.append(get_percent_chosen(v))\n",
    "probs_response, accs_response = [], []\n",
    "for k,v in perturbed_scores['response'].items():\n",
    "    probs_response.append(k)\n",
    "    accs_response.append(get_percent_chosen(v))"
   ]
  },
  {
   "cell_type": "code",
   "execution_count": 4,
   "metadata": {},
   "outputs": [
    {
     "ename": "NameError",
     "evalue": "name 'plt' is not defined",
     "output_type": "error",
     "traceback": [
      "\u001b[0;31m---------------------------------------------------------------------------\u001b[0m",
      "\u001b[0;31mNameError\u001b[0m                                 Traceback (most recent call last)",
      "Cell \u001b[0;32mIn[4], line 1\u001b[0m\n\u001b[0;32m----> 1\u001b[0m plt\u001b[38;5;241m.\u001b[39mplot(probs_both,accs_both, marker\u001b[38;5;241m=\u001b[39m\u001b[38;5;124m'\u001b[39m\u001b[38;5;124mo\u001b[39m\u001b[38;5;124m'\u001b[39m, label\u001b[38;5;241m=\u001b[39m\u001b[38;5;124m'\u001b[39m\u001b[38;5;124mprompt and response\u001b[39m\u001b[38;5;124m'\u001b[39m)\n\u001b[1;32m      2\u001b[0m plt\u001b[38;5;241m.\u001b[39mplot(probs_prompt,accs_prompt, marker\u001b[38;5;241m=\u001b[39m\u001b[38;5;124m'\u001b[39m\u001b[38;5;124mo\u001b[39m\u001b[38;5;124m'\u001b[39m, label\u001b[38;5;241m=\u001b[39m\u001b[38;5;124m'\u001b[39m\u001b[38;5;124mprompt\u001b[39m\u001b[38;5;124m'\u001b[39m)\n\u001b[1;32m      3\u001b[0m plt\u001b[38;5;241m.\u001b[39mplot(probs_response,accs_response, marker\u001b[38;5;241m=\u001b[39m\u001b[38;5;124m'\u001b[39m\u001b[38;5;124mo\u001b[39m\u001b[38;5;124m'\u001b[39m, label\u001b[38;5;241m=\u001b[39m\u001b[38;5;124m'\u001b[39m\u001b[38;5;124mresponse\u001b[39m\u001b[38;5;124m'\u001b[39m)\n",
      "\u001b[0;31mNameError\u001b[0m: name 'plt' is not defined"
     ]
    }
   ],
   "source": [
    "plt.plot(probs_both,accs_both, marker='o', label='prompt and response')\n",
    "plt.plot(probs_prompt,accs_prompt, marker='o', label='prompt')\n",
    "plt.plot(probs_response,accs_response, marker='o', label='response')\n",
    "#plt.ylim(0.4, 0.8)\n",
    "plt.xlabel('Probability of Perturbation')\n",
    "plt.ylabel('Accuracy')\n",
    "plt.title('Performance with Perturbations')\n",
    "plt.legend()\n",
    "ax.spines[['right', 'top']].set_visible(False)"
   ]
  },
  {
   "cell_type": "code",
   "execution_count": 97,
   "metadata": {},
   "outputs": [],
   "source": [
    "for perturb_partition in perturbed_scores:\n",
    "    for perturb_percent in perturbed_scores[perturb_partition]:\n",
    "        percent = str(perturb_percent).replace('.','')\n",
    "        try:\n",
    "            os.mkdir(f'model_scores/deberta_v3_large/{perturb_partition}/{percent}')\n",
    "        except:\n",
    "            pass\n",
    "        pd.DataFrame(perturbed_scores[perturb_partition][perturb_percent]).to_csv(f'model_scores/deberta_v3_large/open_ai_summarize_from_feedback/{perturb_partition}/{percent}_scores.csv', index=False)"
   ]
  },
  {
   "cell_type": "code",
   "execution_count": 89,
   "metadata": {},
   "outputs": [],
   "source": [
    "pd.DataFrame(perturbed_scores['prompt_and_response'][0.0]).to_csv('model_scores/deberta_v3_large/prompt_and_response_perturbed_00.csv', index=False)"
   ]
  },
  {
   "cell_type": "markdown",
   "metadata": {},
   "source": [
    "Replace nouns"
   ]
  },
  {
   "cell_type": "code",
   "execution_count": null,
   "metadata": {},
   "outputs": [],
   "source": [
    "all_nouns = [word.replace('_', ' ') for synset in wn.all_synsets(wn.NOUN) for word in synset.lemma_names()]"
   ]
  },
  {
   "cell_type": "code",
   "execution_count": null,
   "metadata": {},
   "outputs": [],
   "source": []
  }
 ],
 "metadata": {
  "kernelspec": {
   "display_name": "Python 3 (ipykernel)",
   "language": "python",
   "name": "python3"
  },
  "language_info": {
   "codemirror_mode": {
    "name": "ipython",
    "version": 3
   },
   "file_extension": ".py",
   "mimetype": "text/x-python",
   "name": "python",
   "nbconvert_exporter": "python",
   "pygments_lexer": "ipython3",
   "version": "3.11.4"
  }
 },
 "nbformat": 4,
 "nbformat_minor": 2
}
