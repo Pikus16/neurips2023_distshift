{
 "cells": [
  {
   "cell_type": "code",
   "execution_count": 1,
   "metadata": {},
   "outputs": [],
   "source": [
    "%load_ext autoreload\n",
    "%autoreload 2"
   ]
  },
  {
   "cell_type": "code",
   "execution_count": 3,
   "metadata": {},
   "outputs": [],
   "source": [
    "import numpy as np\n",
    "import pandas as pd\n",
    "from tqdm import tqdm\n",
    "import string\n",
    "import random\n",
    "from utils import get_reward_model, get_score, get_scores_df, get_percent_chosen\n",
    "from nltk.corpus import wordnet as wn\n",
    "# from textblob import TextBlob\n",
    "import matplotlib.pyplot as plt"
   ]
  },
  {
   "cell_type": "code",
   "execution_count": 4,
   "metadata": {},
   "outputs": [],
   "source": [
    "np.random.seed(0)\n",
    "random.seed(0)"
   ]
  },
  {
   "cell_type": "code",
   "execution_count": 6,
   "metadata": {},
   "outputs": [
    {
     "data": {
      "text/html": [
       "<div>\n",
       "<style scoped>\n",
       "    .dataframe tbody tr th:only-of-type {\n",
       "        vertical-align: middle;\n",
       "    }\n",
       "\n",
       "    .dataframe tbody tr th {\n",
       "        vertical-align: top;\n",
       "    }\n",
       "\n",
       "    .dataframe thead th {\n",
       "        text-align: right;\n",
       "    }\n",
       "</style>\n",
       "<table border=\"1\" class=\"dataframe\">\n",
       "  <thead>\n",
       "    <tr style=\"text-align: right;\">\n",
       "      <th></th>\n",
       "      <th>prompt</th>\n",
       "      <th>chosen</th>\n",
       "      <th>rejected</th>\n",
       "    </tr>\n",
       "  </thead>\n",
       "  <tbody>\n",
       "    <tr>\n",
       "      <th>0</th>\n",
       "      <td>Hello r/needAdvice, I've been going to see my ...</td>\n",
       "      <td>My Psychiatrist is prescribing me medication w...</td>\n",
       "      <td>Are the practices of a Psychiatrist acceptable...</td>\n",
       "    </tr>\n",
       "    <tr>\n",
       "      <th>1</th>\n",
       "      <td>It's kind of self explanatory but it's really ...</td>\n",
       "      <td>Why does booking a hotel always increase the p...</td>\n",
       "      <td>Every hotel I click on the booking websites ha...</td>\n",
       "    </tr>\n",
       "    <tr>\n",
       "      <th>2</th>\n",
       "      <td>I've happened to see/read a lot about hypnotis...</td>\n",
       "      <td>Is hypnosis as learning possible?</td>\n",
       "      <td>Is it possible to teach material while in a hy...</td>\n",
       "    </tr>\n",
       "    <tr>\n",
       "      <th>3</th>\n",
       "      <td>Earlier this morning I was out running the dog...</td>\n",
       "      <td>I was walking around taking photos with my unc...</td>\n",
       "      <td>I managed to get my neck strap looped around m...</td>\n",
       "    </tr>\n",
       "    <tr>\n",
       "      <th>4</th>\n",
       "      <td>My University is small, so the Music Industry ...</td>\n",
       "      <td>I'm considering switching my major from Englis...</td>\n",
       "      <td>I'm considering changing my major from English...</td>\n",
       "    </tr>\n",
       "    <tr>\n",
       "      <th>...</th>\n",
       "      <td>...</td>\n",
       "      <td>...</td>\n",
       "      <td>...</td>\n",
       "    </tr>\n",
       "    <tr>\n",
       "      <th>995</th>\n",
       "      <td>My girlfriend and I have been together almost ...</td>\n",
       "      <td>Girlfriend and I have been together almost a y...</td>\n",
       "      <td>Girlfriend and I have been long distance for a...</td>\n",
       "    </tr>\n",
       "    <tr>\n",
       "      <th>996</th>\n",
       "      <td>Hello Reddit. My job history is good and bad. ...</td>\n",
       "      <td>I have a job history and want to show it in a ...</td>\n",
       "      <td>I worked my butt off and had a lot of shifts w...</td>\n",
       "    </tr>\n",
       "    <tr>\n",
       "      <th>997</th>\n",
       "      <td>I'm a sophomore in college and I met this amaz...</td>\n",
       "      <td>Girl and I have a good connection, but she has...</td>\n",
       "      <td>I like this girl and we get along great but sh...</td>\n",
       "    </tr>\n",
       "    <tr>\n",
       "      <th>998</th>\n",
       "      <td>My amazing boyfriend works as a server at a hi...</td>\n",
       "      <td>Boyfriend has two girls he is friends with, I'...</td>\n",
       "      <td>Boyfriend has had friendship type relationship...</td>\n",
       "    </tr>\n",
       "    <tr>\n",
       "      <th>999</th>\n",
       "      <td>Okay, so my younger brothers were out and abou...</td>\n",
       "      <td>my dad got angry at teenagers for yelling obsc...</td>\n",
       "      <td>My brothers were being verbally harassed by ki...</td>\n",
       "    </tr>\n",
       "  </tbody>\n",
       "</table>\n",
       "<p>1000 rows × 3 columns</p>\n",
       "</div>"
      ],
      "text/plain": [
       "                                                prompt  \\\n",
       "0    Hello r/needAdvice, I've been going to see my ...   \n",
       "1    It's kind of self explanatory but it's really ...   \n",
       "2    I've happened to see/read a lot about hypnotis...   \n",
       "3    Earlier this morning I was out running the dog...   \n",
       "4    My University is small, so the Music Industry ...   \n",
       "..                                                 ...   \n",
       "995  My girlfriend and I have been together almost ...   \n",
       "996  Hello Reddit. My job history is good and bad. ...   \n",
       "997  I'm a sophomore in college and I met this amaz...   \n",
       "998  My amazing boyfriend works as a server at a hi...   \n",
       "999  Okay, so my younger brothers were out and abou...   \n",
       "\n",
       "                                                chosen  \\\n",
       "0    My Psychiatrist is prescribing me medication w...   \n",
       "1    Why does booking a hotel always increase the p...   \n",
       "2                    Is hypnosis as learning possible?   \n",
       "3    I was walking around taking photos with my unc...   \n",
       "4    I'm considering switching my major from Englis...   \n",
       "..                                                 ...   \n",
       "995  Girlfriend and I have been together almost a y...   \n",
       "996  I have a job history and want to show it in a ...   \n",
       "997  Girl and I have a good connection, but she has...   \n",
       "998  Boyfriend has two girls he is friends with, I'...   \n",
       "999  my dad got angry at teenagers for yelling obsc...   \n",
       "\n",
       "                                              rejected  \n",
       "0    Are the practices of a Psychiatrist acceptable...  \n",
       "1    Every hotel I click on the booking websites ha...  \n",
       "2    Is it possible to teach material while in a hy...  \n",
       "3    I managed to get my neck strap looped around m...  \n",
       "4    I'm considering changing my major from English...  \n",
       "..                                                 ...  \n",
       "995  Girlfriend and I have been long distance for a...  \n",
       "996  I worked my butt off and had a lot of shifts w...  \n",
       "997  I like this girl and we get along great but sh...  \n",
       "998  Boyfriend has had friendship type relationship...  \n",
       "999  My brothers were being verbally harassed by ki...  \n",
       "\n",
       "[1000 rows x 3 columns]"
      ]
     },
     "execution_count": 6,
     "metadata": {},
     "output_type": "execute_result"
    }
   ],
   "source": [
    "original = pd.read_csv('data/openai_summarize_from_feedback/english_original.csv').sample(1000).reset_index(drop=True)\n",
    "original = original.fillna('')\n",
    "original"
   ]
  },
  {
   "cell_type": "markdown",
   "metadata": {},
   "source": [
    "## Random Word Perturbation"
   ]
  },
  {
   "cell_type": "code",
   "execution_count": 16,
   "metadata": {},
   "outputs": [],
   "source": [
    "from urllib.request import urlopen\n",
    "\n",
    "word_site = \"https://www-personal.umich.edu/~jlawler/wordlist\"\n",
    "\n",
    "response = urlopen(word_site)\n",
    "txt = response.read().decode()\n",
    "WORDS = txt.splitlines()\n",
    "def get_random_word():\n",
    "    return random.choice(WORDS)"
   ]
  },
  {
   "cell_type": "code",
   "execution_count": 43,
   "metadata": {},
   "outputs": [],
   "source": [
    "def insert_word(word_list, i):\n",
    "    return word_list[:i] + [get_random_word()] + word_list[i:]\n",
    "\n",
    "def delete_word(word_list, i):\n",
    "    return word_list[:i] + word_list[i+1:]\n",
    "\n",
    "def replace_word(word_list, i):\n",
    "    return word_list[:i] + [get_random_word()] + word_list[i+1:]\n",
    "\n",
    "def do_action_word(s, i):\n",
    "    r = np.random.rand()\n",
    "    if r <= 0.33:\n",
    "        return ' '.join(w for w in insert_word(s.split(), i)), i + 1\n",
    "    elif r <= 0.67:\n",
    "        return ' '.join(w for w in delete_word(s.split(), i)), i\n",
    "    else:\n",
    "        return ' '.join(w for w in replace_word(s.split(), i)), i"
   ]
  },
  {
   "cell_type": "markdown",
   "metadata": {},
   "source": [
    "## Random Char Perturbation"
   ]
  },
  {
   "cell_type": "code",
   "execution_count": 54,
   "metadata": {},
   "outputs": [],
   "source": [
    "chars = string.ascii_letters + '0123456789 \\n'\n",
    "def get_random_char():\n",
    "    return random.choice(chars)"
   ]
  },
  {
   "cell_type": "code",
   "execution_count": 55,
   "metadata": {},
   "outputs": [],
   "source": [
    "def insert(s, i):\n",
    "    return s[:i] + get_random_char() + s[i:]\n",
    "\n",
    "def delete(s, i):\n",
    "    return s[:i] + s[i+1:]\n",
    "\n",
    "def replace(s, i):\n",
    "    return s[:i] + get_random_char() + s[i+1:]"
   ]
  },
  {
   "cell_type": "code",
   "execution_count": 56,
   "metadata": {},
   "outputs": [],
   "source": [
    "def do_action(s, i):\n",
    "    r = np.random.rand()\n",
    "    if r <= 0.33:\n",
    "        return insert(s, i), i+ 1\n",
    "    elif r <= 0.67:\n",
    "        return delete(s,i), i\n",
    "    else:\n",
    "        return replace(s,i), i"
   ]
  },
  {
   "cell_type": "code",
   "execution_count": 57,
   "metadata": {},
   "outputs": [],
   "source": [
    "def perturb_string(s, prob_perturb=0.1):\n",
    "    for i in range(len(s)):\n",
    "        r = np.random.rand()\n",
    "        if r <= prob_perturb:\n",
    "            s, i = do_action(s, i)\n",
    "    return s"
   ]
  },
  {
   "cell_type": "code",
   "execution_count": 10,
   "metadata": {},
   "outputs": [],
   "source": [
    "def perturb_df(df, prob_perturb):\n",
    "    for i, row in original.iterrows():\n",
    "        df.prompt.iloc[i] = perturb_string(row.prompt, prob_perturb=prob_perturb)\n",
    "        df.iloc[i].chosen = perturb_string(row.chosen, prob_perturb=prob_perturb)\n",
    "        df.iloc[i].rejected = perturb_string(row.rejected, prob_perturb=prob_perturb)\n",
    "    return df"
   ]
  },
  {
   "cell_type": "code",
   "execution_count": 11,
   "metadata": {},
   "outputs": [
    {
     "name": "stderr",
     "output_type": "stream",
     "text": [
      "100%|██████████| 10/10 [00:25<00:00,  2.56s/it]\n"
     ]
    }
   ],
   "source": [
    "perturbed = {}\n",
    "for prob_perturb in tqdm(np.arange(0, 1.0, 0.1)):\n",
    "    perturbed[prob_perturb] = perturb_df(original.copy(), prob_perturb=prob_perturb)"
   ]
  },
  {
   "cell_type": "code",
   "execution_count": 12,
   "metadata": {},
   "outputs": [],
   "source": [
    "rank_model, tokenizer = get_reward_model()"
   ]
  },
  {
   "cell_type": "code",
   "execution_count": 19,
   "metadata": {},
   "outputs": [
    {
     "name": "stderr",
     "output_type": "stream",
     "text": [
      "100%|██████████| 1000/1000 [01:48<00:00,  9.19it/s]\n",
      "100%|██████████| 1000/1000 [02:05<00:00,  7.94it/s]\n",
      "100%|██████████| 1000/1000 [02:28<00:00,  6.72it/s]\n",
      "100%|██████████| 1000/1000 [02:48<00:00,  5.92it/s]\n",
      "100%|██████████| 1000/1000 [03:06<00:00,  5.36it/s]\n",
      "100%|██████████| 1000/1000 [03:23<00:00,  4.92it/s]\n",
      "100%|██████████| 1000/1000 [03:36<00:00,  4.61it/s]\n",
      "100%|██████████| 1000/1000 [03:49<00:00,  4.37it/s]\n",
      "100%|██████████| 1000/1000 [03:59<00:00,  4.17it/s]\n",
      "100%|██████████| 1000/1000 [04:09<00:00,  4.01it/s]\n"
     ]
    }
   ],
   "source": [
    "perturbed_scores = {}\n",
    "scores = {}\n",
    "for prob_perturb, df_ in perturbed.items():\n",
    "    scores[prob_perturb] = get_scores_df(df_, tokenizer=tokenizer, rank_model=rank_model)\n",
    "perturbed_scores['prompt_and_response'] = scores"
   ]
  },
  {
   "cell_type": "code",
   "execution_count": 25,
   "metadata": {},
   "outputs": [
    {
     "name": "stderr",
     "output_type": "stream",
     "text": [
      "100%|██████████| 1000/1000 [01:53<00:00,  8.83it/s]\n",
      "100%|██████████| 1000/1000 [01:54<00:00,  8.73it/s]\n",
      "100%|██████████| 1000/1000 [01:53<00:00,  8.81it/s]\n",
      "100%|██████████| 1000/1000 [01:58<00:00,  8.44it/s]\n",
      "100%|██████████| 1000/1000 [01:52<00:00,  8.89it/s]\n",
      "100%|██████████| 1000/1000 [01:54<00:00,  8.75it/s]\n",
      "100%|██████████| 1000/1000 [01:57<00:00,  8.52it/s]\n",
      "100%|██████████| 1000/1000 [01:55<00:00,  8.67it/s]\n",
      "100%|██████████| 1000/1000 [01:55<00:00,  8.63it/s]\n",
      "100%|██████████| 1000/1000 [01:57<00:00,  8.53it/s]\n"
     ]
    }
   ],
   "source": [
    "scores = {}\n",
    "for prob_perturb, df_ in perturbed.items():\n",
    "    df_ = df_.copy()\n",
    "    df_['prompt'] = original['prompt']\n",
    "    scores[prob_perturb] = get_scores_df(df_, tokenizer=tokenizer, rank_model=rank_model)\n",
    "perturbed_scores['response'] = scores"
   ]
  },
  {
   "cell_type": "code",
   "execution_count": 26,
   "metadata": {},
   "outputs": [
    {
     "name": "stderr",
     "output_type": "stream",
     "text": [
      "100%|██████████| 1000/1000 [01:48<00:00,  9.25it/s]\n",
      "100%|██████████| 1000/1000 [02:04<00:00,  8.01it/s]\n",
      "100%|██████████| 1000/1000 [02:23<00:00,  6.99it/s]\n",
      "100%|██████████| 1000/1000 [02:41<00:00,  6.20it/s]\n",
      "100%|██████████| 1000/1000 [02:56<00:00,  5.68it/s]\n",
      "100%|██████████| 1000/1000 [03:10<00:00,  5.25it/s]\n",
      "100%|██████████| 1000/1000 [03:22<00:00,  4.93it/s]\n",
      "100%|██████████| 1000/1000 [03:32<00:00,  4.71it/s]\n",
      "100%|██████████| 1000/1000 [03:41<00:00,  4.51it/s]\n",
      "100%|██████████| 1000/1000 [03:50<00:00,  4.34it/s]\n"
     ]
    }
   ],
   "source": [
    "scores = {}\n",
    "for prob_perturb, df_ in perturbed.items():\n",
    "    df_ = df_.copy()\n",
    "    df_['chosen'] = original['chosen']\n",
    "    df_['rejected'] = original['rejected']\n",
    "    scores[prob_perturb] = get_scores_df(df_, tokenizer=tokenizer, rank_model=rank_model)\n",
    "perturbed_scores['prompt'] = scores"
   ]
  },
  {
   "cell_type": "code",
   "execution_count": 27,
   "metadata": {},
   "outputs": [],
   "source": [
    "probs_both, accs_both = [], []\n",
    "for k,v in perturbed_scores['prompt_and_response'].items():\n",
    "    probs_both.append(k)\n",
    "    accs_both.append(get_percent_chosen(v))\n",
    "probs_prompt, accs_prompt = [], []\n",
    "for k,v in perturbed_scores['prompt'].items():\n",
    "    probs_prompt.append(k)\n",
    "    accs_prompt.append(get_percent_chosen(v))\n",
    "probs_response, accs_response = [], []\n",
    "for k,v in perturbed_scores['response'].items():\n",
    "    probs_response.append(k)\n",
    "    accs_response.append(get_percent_chosen(v))"
   ]
  },
  {
   "cell_type": "code",
   "execution_count": 28,
   "metadata": {},
   "outputs": [
    {
     "data": {
      "text/plain": [
       "<matplotlib.legend.Legend at 0x7fd9554580a0>"
      ]
     },
     "execution_count": 28,
     "metadata": {},
     "output_type": "execute_result"
    },
    {
     "data": {
      "image/png": "[encoded data removed]",
      "text/plain": [
       "<Figure size 640x480 with 1 Axes>"
      ]
     },
     "metadata": {},
     "output_type": "display_data"
    }
   ],
   "source": [
    "plt.plot(probs_both,accs_both, marker='o', label='prompt and response')\n",
    "plt.plot(probs_prompt,accs_prompt, marker='o', label='prompt')\n",
    "plt.plot(probs_response,accs_response, marker='o', label='response')\n",
    "#plt.ylim(0.4, 0.8)\n",
    "plt.xlabel('Probability of Perturbation')\n",
    "plt.ylabel('Accuracy')\n",
    "plt.title('Performance with Perturbations')\n",
    "plt.legend()"
   ]
  },
  {
   "cell_type": "markdown",
   "metadata": {},
   "source": [
    "Replace nouns"
   ]
  },
  {
   "cell_type": "code",
   "execution_count": null,
   "metadata": {},
   "outputs": [],
   "source": [
    "all_nouns = [word.replace('_', ' ') for synset in wn.all_synsets(wn.NOUN) for word in synset.lemma_names()]"
   ]
  },
  {
   "cell_type": "code",
   "execution_count": null,
   "metadata": {},
   "outputs": [],
   "source": []
  }
 ],
 "metadata": {
  "kernelspec": {
   "display_name": "Python 3 (ipykernel)",
   "language": "python",
   "name": "python3"
  },
  "language_info": {
   "codemirror_mode": {
    "name": "ipython",
    "version": 3
   },
   "file_extension": ".py",
   "mimetype": "text/x-python",
   "name": "python",
   "nbconvert_exporter": "python",
   "pygments_lexer": "ipython3",
   "version": "3.11.4"
  }
 },
 "nbformat": 4,
 "nbformat_minor": 2
}
